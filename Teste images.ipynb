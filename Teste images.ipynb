{
 "cells": [
  {
   "cell_type": "code",
   "execution_count": null,
   "id": "c042d184",
   "metadata": {},
   "outputs": [],
   "source": [
    "import os"
   ]
  },
  {
   "cell_type": "code",
   "execution_count": null,
   "id": "a5d3de59",
   "metadata": {},
   "outputs": [],
   "source": [
    "\n",
    "image = 'grid_rj'\n",
    "filename_pattern = 'sentinel1_grid_cell_{}.tif'"
   ]
  },
  {
   "cell_type": "code",
   "execution_count": null,
   "id": "bdd44dac",
   "metadata": {},
   "outputs": [],
   "source": [
    "image_paths = []\n",
    "for i in range(0, 2800):\n",
    "    img_name = filename_pattern.format(i+1)\n",
    "    img_path = os.path.join(image, img_name)\n",
    "    if os.path.exists(img_path):\n",
    "        image_paths.append(img_path)\n",
    "\n",
    "print(f\"Total de imagens encontradas: {len(image_paths)}\")"
   ]
  },
  {
   "cell_type": "code",
   "execution_count": null,
   "id": "e3fa709a",
   "metadata": {},
   "outputs": [],
   "source": [
    "for i in range(0, 2800):\n",
    "    images_batch, masks_batch = next(iter(train_loader))\n",
    "\n",
    "    # Imprime as informações do lote\n",
    "    print(f\"Forma do lote de imagens: {images_batch.shape}\")\n",
    "    print(f\"Forma do lote de máscaras: {masks_batch.shape}\")\n",
    "    print(\"-\" * 30)\n",
    "    print(f\"Tipo de dado das imagens: {images_batch.dtype}\")\n",
    "    print(f\"Tipo de dado das máscaras: {masks_batch.dtype}\")\n",
    "    print(\"-\" * 30)\n",
    "    print(f\"Valores Mín/Máx das imagens: {images_batch.min():.2f} / {images_batch.max():.2f}\")\n",
    "    print(f\"Valores Mín/Máx das máscaras: {masks_batch.min():.2f} / {masks_batch.max():.2f}\")\n",
    "    print(f\"Valor único das máscaras: {torch.unique(masks_batch)}\") # Deve ser [0., 1.]"
   ]
  }
 ],
 "metadata": {
  "language_info": {
   "name": "python"
  }
 },
 "nbformat": 4,
 "nbformat_minor": 5
}
